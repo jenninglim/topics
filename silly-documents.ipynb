{
 "cells": [
  {
   "cell_type": "code",
   "execution_count": 2,
   "metadata": {
    "collapsed": true
   },
   "outputs": [],
   "source": [
    "import numpy as np\n",
    "import matplotlib.pyplot as plt"
   ]
  },
  {
   "cell_type": "code",
   "execution_count": 3,
   "metadata": {
    "collapsed": true
   },
   "outputs": [],
   "source": [
    "num_docs = 1\n",
    "doc_size = 10\n",
    "topics1 = [\"fish\", \"chicken\", \"gains\",\"falafel\",\"peas\"]\n",
    "topics2 = [\"ross\", \"mike\", \"jenning\",\"rachel\",\"haydn\"]\n",
    "topics3 = [\"eating\", \"drinking\", \"playing\",\"slapping\",\"acting\"]\n",
    "topics4 = [\"trying\", \"attempting\", \"successful\", \"vigilantly\"]\n",
    "topics = [topics1, topics2, topics3, topics4]"
   ]
  },
  {
   "cell_type": "code",
   "execution_count": 4,
   "metadata": {
    "collapsed": false
   },
   "outputs": [
    {
     "name": "stdout",
     "output_type": "stream",
     "text": [
      "mike\n",
      "playing\n",
      "vigilantly\n",
      "fish\n",
      "trying\n",
      "chicken\n",
      "drinking\n",
      "rachel\n",
      "drinking\n",
      "vigilantly\n"
     ]
    }
   ],
   "source": [
    "beta = np.random.dirichlet(np.ones(len(topics)),len(topics1))\n",
    "for i in range (num_docs):\n",
    "    probs = np.random.dirichlet(np.ones(len(topics)))\n",
    "    for j in range (doc_size):\n",
    "        topic_sam = np.random.multinomial(1,probs).tolist()\n",
    "        topic_i = next(topic_sam.index(i) for i in topic_sam if i == 1)\n",
    "        word = np.random.multinomial(1, beta[topic_i]).tolist()\n",
    "        word_i = next(word.index(i) for i in word if i == 1)\n",
    "        print(topics[topic_i][word_i])\n",
    "        "
   ]
  }
 ],
 "metadata": {
  "kernelspec": {
   "display_name": "Python [Root]",
   "language": "python",
   "name": "Python [Root]"
  },
  "language_info": {
   "codemirror_mode": {
    "name": "ipython",
    "version": 3
   },
   "file_extension": ".py",
   "mimetype": "text/x-python",
   "name": "python",
   "nbconvert_exporter": "python",
   "pygments_lexer": "ipython3",
   "version": "3.5.3"
  }
 },
 "nbformat": 4,
 "nbformat_minor": 2
}
