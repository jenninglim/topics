{
 "cells": [
  {
   "cell_type": "markdown",
   "metadata": {},
   "source": [
    "# Dirchlet Process Simulator"
   ]
  },
  {
   "cell_type": "code",
   "execution_count": 1,
   "metadata": {
    "collapsed": false
   },
   "outputs": [],
   "source": [
    "import numpy as np\n",
    "import matplotlib.pyplot as plt"
   ]
  },
  {
   "cell_type": "markdown",
   "metadata": {},
   "source": [
    "# Mixture Model"
   ]
  },
  {
   "cell_type": "code",
   "execution_count": 9,
   "metadata": {
    "collapsed": true
   },
   "outputs": [],
   "source": [
    "# Stick Breaking. Construction\n",
    "class DirchletProcess():\n",
    "    def __init__(self, alpha, G):\n",
    "        self.sticks_used = 0\n",
    "        self.alpha = alpha\n",
    "        self.G = G\n",
    "    \n",
    "    def __call__(self):\n",
    "        remaining_stick = 1 - self.sticks_used\n",
    "        v = np.random.beta(1, self.alpha) * remaining_stick\n",
    "        self.sticks_used += v\n",
    "        mu = self.G(np.zeros(2), 10 * np.eye(2))\n",
    "        return mu, v\n",
    "    \n",
    "    def sample(self):\n",
    "        self.sticks_used = 0\n",
    "        probs = []\n",
    "        remaining_stick = 1\n",
    "        while not (remaining_stick == 0):\n",
    "            _, p = self()\n",
    "            remaining_stick = 1 - self.sticks_used\n",
    "            probs.append(p)\n",
    "        return probs"
   ]
  },
  {
   "cell_type": "code",
   "execution_count": 10,
   "metadata": {
    "collapsed": true
   },
   "outputs": [],
   "source": [
    "# There should be better way to do this...\n",
    "def which_color(index):\n",
    "    colors = ['r','g','b','c', 'm']\n",
    "    return colors[index % len(colors)]"
   ]
  },
  {
   "cell_type": "code",
   "execution_count": 11,
   "metadata": {
    "collapsed": true
   },
   "outputs": [],
   "source": [
    "# dp parameters\n",
    "cluster_means = [np.zeros(2)]\n",
    "cluster_probs = [0]\n",
    "\n",
    "G = np.random.multivariate_normal\n",
    "G_params = [np.zeros(2), 5 * np.eye(2)]\n",
    "dp = DirchletProcess(0.5, G)"
   ]
  },
  {
   "cell_type": "code",
   "execution_count": 5,
   "metadata": {
    "collapsed": false
   },
   "outputs": [],
   "source": [
    "# Sampling a Mixture Model\n",
    "for i in range (1,100):\n",
    "    unif_samp = np.random.uniform(0,1)\n",
    "    cumsum = np.cumsum(cluster_probs).tolist()\n",
    "    while (cumsum[-1] < unif_samp):\n",
    "        mu, p = dp()\n",
    "        cluster_means.append(mu)\n",
    "        cluster_probs.append(p)\n",
    "        cumsum = np.cumsum(cluster_probs).tolist()\n",
    "        \n",
    "        # Plot Mean\n",
    "        plt.scatter(mu[0], mu[1], 20, c=which_color(len(cumsum) - 1))\n",
    "        \n",
    "    prob = next(i for i in cumsum if i >= unif_samp)\n",
    "    index = cumsum.index(prob)\n",
    "    \n",
    "    # Generate Data\n",
    "    sample = G(cluster_means[index], np.eye(2))\n",
    "    plt.scatter(sample[0], sample[1], 2, c=which_color(index))"
   ]
  },
  {
   "cell_type": "code",
   "execution_count": 6,
   "metadata": {
    "collapsed": false
   },
   "outputs": [
    {
     "data": {
      "image/png": "[encoded data removed]",
      "text/plain": [
       "<matplotlib.figure.Figure at 0x108d72bd0>"
      ]
     },
     "metadata": {},
     "output_type": "display_data"
    }
   ],
   "source": [
    "plt.show()"
   ]
  }
 ],
 "metadata": {
  "kernelspec": {
   "display_name": "Python [python2]",
   "language": "python",
   "name": "Python [python2]"
  },
  "language_info": {
   "codemirror_mode": {
    "name": "ipython",
    "version": 2
   },
   "file_extension": ".py",
   "mimetype": "text/x-python",
   "name": "python",
   "nbconvert_exporter": "python",
   "pygments_lexer": "ipython2",
   "version": "2.7.13"
  }
 },
 "nbformat": 4,
 "nbformat_minor": 2
}
