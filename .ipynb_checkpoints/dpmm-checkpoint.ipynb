{
 "cells": [
  {
   "cell_type": "markdown",
   "metadata": {},
   "source": [
    "# Dirchlet Process Simulator"
   ]
  },
  {
   "cell_type": "code",
   "execution_count": 2,
   "metadata": {
    "collapsed": true
   },
   "outputs": [],
   "source": [
    "import numpy as np\n",
    "import matplotlib as plt"
   ]
  },
  {
   "cell_type": "markdown",
   "metadata": {},
   "source": [
    "# Mixture Model"
   ]
  },
  {
   "cell_type": "code",
   "execution_count": 3,
   "metadata": {
    "collapsed": true
   },
   "outputs": [],
   "source": [
    "# Stick Breaking. Construction\n",
    "class DirchletProcess():\n",
    "    def __init__(self, alpha, G):\n",
    "        self.sticks_used = 0\n",
    "        self.alpha = alpha\n",
    "        self.G = G\n",
    "    \n",
    "    def __call__(self):\n",
    "        remaining_stick = 1 - self.sticks_used\n",
    "        v = np.random.beta(1, self.alpha) * remaining_stick\n",
    "        self.sticks_used += v\n",
    "        mu = self.G(np.zeros(2), 5 * np.eye(2))\n",
    "        return mu, v"
   ]
  },
  {
   "cell_type": "code",
   "execution_count": 9,
   "metadata": {
    "collapsed": false
   },
   "outputs": [
    {
     "name": "stdout",
     "output_type": "stream",
     "text": [
      "1\n",
      "1\n",
      "1\n",
      "1\n",
      "1\n",
      "1\n",
      "1\n",
      "1\n",
      "1\n",
      "1\n",
      "1\n",
      "1\n",
      "9\n",
      "1\n",
      "1\n",
      "1\n",
      "1\n",
      "1\n",
      "1\n",
      "1\n",
      "6\n",
      "1\n",
      "5\n",
      "1\n",
      "1\n",
      "1\n",
      "1\n",
      "1\n",
      "7\n",
      "2\n",
      "1\n",
      "1\n",
      "1\n",
      "1\n",
      "3\n",
      "9\n",
      "1\n",
      "1\n",
      "1\n",
      "5\n",
      "1\n",
      "3\n",
      "1\n",
      "1\n",
      "1\n",
      "1\n",
      "1\n",
      "1\n",
      "1\n",
      "4\n",
      "1\n",
      "3\n",
      "1\n",
      "1\n",
      "1\n",
      "1\n",
      "1\n",
      "1\n",
      "1\n",
      "1\n",
      "1\n",
      "1\n",
      "1\n",
      "1\n",
      "1\n",
      "1\n",
      "3\n",
      "1\n",
      "12\n",
      "1\n",
      "1\n",
      "3\n",
      "1\n",
      "2\n",
      "1\n",
      "1\n",
      "1\n",
      "1\n",
      "5\n",
      "1\n",
      "1\n",
      "4\n",
      "1\n",
      "1\n",
      "1\n",
      "1\n",
      "1\n",
      "1\n",
      "1\n",
      "1\n",
      "1\n",
      "4\n",
      "5\n",
      "1\n",
      "1\n",
      "5\n",
      "1\n",
      "1\n",
      "1\n"
     ]
    }
   ],
   "source": [
    "cluster_means = [np.zeros(2)]\n",
    "cluster_probs = [0]\n",
    "G = np.random.multivariate_normal\n",
    "dp = DirchletProcess(1, G)\n",
    "for i in range (1,100):\n",
    "    unif_samp = np.random.uniform(0,1)\n",
    "    cumsum = np.cumsum(cluster_probs).tolist()\n",
    "    while (cumsum[-1] < unif_samp):\n",
    "        mu, p = dp()\n",
    "        cluster_means.append(mu)\n",
    "        cluster_probs.append(p)\n",
    "        cumsum = np.cumsum(cluster_probs).tolist()\n",
    "    prob = next(i for i in cumsum if i >= unif_samp)\n",
    "    index = cumsum.index(prob)\n",
    "    print(index)"
   ]
  },
  {
   "cell_type": "code",
   "execution_count": 20,
   "metadata": {
    "collapsed": false
   },
   "outputs": [
    {
     "name": "stdout",
     "output_type": "stream",
     "text": [
      "[array([ 0.,  0.]), array([-3.42990941,  1.29350006]), array([ 0.39817508, -0.18097641]), array([-2.83019641,  1.28817177]), array([ 0.99921071, -2.67978505])]\n"
     ]
    }
   ],
   "source": []
  },
  {
   "cell_type": "code",
   "execution_count": null,
   "metadata": {
    "collapsed": true
   },
   "outputs": [],
   "source": []
  }
 ],
 "metadata": {
  "kernelspec": {
   "display_name": "Python [python2]",
   "language": "python",
   "name": "Python [python2]"
  },
  "language_info": {
   "codemirror_mode": {
    "name": "ipython",
    "version": 2
   },
   "file_extension": ".py",
   "mimetype": "text/x-python",
   "name": "python",
   "nbconvert_exporter": "python",
   "pygments_lexer": "ipython2",
   "version": "2.7.13"
  }
 },
 "nbformat": 4,
 "nbformat_minor": 2
}
