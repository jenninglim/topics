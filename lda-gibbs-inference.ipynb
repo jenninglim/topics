{
 "cells": [
  {
   "cell_type": "markdown",
   "metadata": {},
   "source": [
    "# Gibbs Sampling Inference with LDA"
   ]
  },
  {
   "cell_type": "code",
   "execution_count": 1,
   "metadata": {
    "collapsed": false
   },
   "outputs": [],
   "source": [
    "import numpy as np\n",
    "import matplotlib.pyplot as plt\n",
    "import lda.datasets as data"
   ]
  },
  {
   "cell_type": "markdown",
   "metadata": {},
   "source": [
    "## Test Documents"
   ]
  },
  {
   "cell_type": "code",
   "execution_count": 2,
   "metadata": {
    "collapsed": true
   },
   "outputs": [],
   "source": [
    "doc = np.array([[2, 3, 7, 2, 1, 5, 6, 8, 1, 2]])"
   ]
  },
  {
   "cell_type": "markdown",
   "metadata": {
    "collapsed": true
   },
   "source": [
    "# Real Data"
   ]
  },
  {
   "cell_type": "code",
   "execution_count": 3,
   "metadata": {
    "collapsed": false
   },
   "outputs": [],
   "source": [
    "X = data.load_reuters()\n",
    "vocab = data.load_reuters_vocab()\n",
    "titles = data.load_reuters_titles()"
   ]
  },
  {
   "cell_type": "markdown",
   "metadata": {},
   "source": [
    "## Parameters"
   ]
  },
  {
   "cell_type": "code",
   "execution_count": 4,
   "metadata": {
    "collapsed": true
   },
   "outputs": [],
   "source": [
    "# Parameters\n",
    "# per document topic\n",
    "alpha = 1\n",
    "# per topic word distribution\n",
    "beta = 1"
   ]
  },
  {
   "cell_type": "code",
   "execution_count": 19,
   "metadata": {
    "collapsed": true
   },
   "outputs": [],
   "source": [
    "# number of stuff.\n",
    "n_docs = 1\n",
    "n_topics = 5\n",
    "n_words =len(vocab)"
   ]
  },
  {
   "cell_type": "code",
   "execution_count": 20,
   "metadata": {
    "collapsed": false
   },
   "outputs": [],
   "source": [
    "# topic dist for doc m. Shape = (n_docs, n_topics)\n",
    "topic_d = np.ones((n_docs, n_topics))\n",
    "# word dis per topic. Shape = (n_topics, n_words)\n",
    "word_d = np.ones((n_topics, n_words))\n",
    "# word assignment per document. Shape = (n_docs, n_words)\n",
    "word_assign = np.ones((n_docs, n_words))"
   ]
  },
  {
   "cell_type": "markdown",
   "metadata": {},
   "source": [
    "## Initialisation"
   ]
  },
  {
   "cell_type": "code",
   "execution_count": 21,
   "metadata": {
    "collapsed": false
   },
   "outputs": [],
   "source": [
    "def init():\n",
    "    for i_docs in range (n_docs):\n",
    "        topic_d[i_docs] = np.random.dirichlet(alpha * np.ones(n_topics))\n",
    "        word_assign[i_docs] = np.random.randint(n_topics, size=n_words)\n",
    "    \n",
    "    for i in range (n_topics):\n",
    "        word_d[i] = np.random.dirichlet(alpha * np.ones(n_words))"
   ]
  },
  {
   "cell_type": "markdown",
   "metadata": {},
   "source": [
    "## Gibbs Sampling - So slow"
   ]
  },
  {
   "cell_type": "code",
   "execution_count": 22,
   "metadata": {
    "collapsed": true
   },
   "outputs": [],
   "source": [
    "def topic_gibbs(doc, max_iter = 10):\n",
    "    for i in range(max_iter):\n",
    "        print(i)\n",
    "        # Sample from conditional of word assignment\n",
    "        for i_doc in range(n_docs):\n",
    "            for i_word in range(n_words):\n",
    "                # Calculate paramters\n",
    "                # using prob dist of the topic per doc and conditional topic distribution given words\n",
    "                param = np.exp(np.log(topic_d[i_doc]) + np.log(word_d[:, doc[i_doc, i_word]]))\n",
    "                para = param / np.sum(param)\n",
    "                \n",
    "                # Redistribute topics w/ new paramters\n",
    "                topic = np.random.multinomial(1,para)\n",
    "                word_assign[i_doc, i_word] = np.argmax(topic)\n",
    "        \n",
    "        print(\"Words Assigned!\")\n",
    "        # Sample from conditional of topic distribution per document\n",
    "        for i_doc in range (n_docs):\n",
    "            k = np.ones(n_topics)\n",
    "            for i_topic in range (n_topics):\n",
    "                k[i_topic] = np.sum(word_assign[i_doc] == i_topic)\n",
    "            topic_d[i_doc] = np.random.dirichlet(alpha + k)\n",
    "        \n",
    "        print(\"topic_d Updated!\")\n",
    "        # Sample from condition of word distribution per document\n",
    "        for i_topic in range(n_topics):\n",
    "            k = np.ones(n_words)\n",
    "            # Calculate the indicator\n",
    "            for i_word in range (n_words):\n",
    "                for i_doc in range (n_docs):\n",
    "                    for i_wword in range (n_words):\n",
    "                        k[i_word] += (doc[i_doc , i_wword] == i_word) and (word_assign[i_doc, i_wword] == i_topic)\n",
    "            \n",
    "            word_d[i_topic] = np.random.dirichlet(alpha + k)\n",
    "        print(\"Iteration Ended!\")"
   ]
  },
  {
   "cell_type": "code",
   "execution_count": 23,
   "metadata": {
    "collapsed": false
   },
   "outputs": [
    {
     "name": "stdout",
     "output_type": "stream",
     "text": [
      "0\n",
      "Words Assigned!\n",
      "topic_d Updated!\n",
      "Iteration Ended!\n",
      "1\n",
      "Words Assigned!\n",
      "topic_d Updated!\n",
      "Iteration Ended!\n",
      "2\n",
      "Words Assigned!\n",
      "topic_d Updated!\n",
      "Iteration Ended!\n",
      "3\n",
      "Words Assigned!\n",
      "topic_d Updated!\n",
      "Iteration Ended!\n",
      "4\n",
      "Words Assigned!\n",
      "topic_d Updated!\n",
      "Iteration Ended!\n",
      "5\n",
      "Words Assigned!\n",
      "topic_d Updated!\n",
      "Iteration Ended!\n",
      "6\n",
      "Words Assigned!\n",
      "topic_d Updated!\n",
      "Iteration Ended!\n",
      "7\n",
      "Words Assigned!\n",
      "topic_d Updated!\n",
      "Iteration Ended!\n",
      "8\n",
      "Words Assigned!\n",
      "topic_d Updated!\n",
      "Iteration Ended!\n",
      "9\n",
      "Words Assigned!\n",
      "topic_d Updated!\n",
      "Iteration Ended!\n"
     ]
    }
   ],
   "source": [
    "init()\n",
    "topic_gibbs(X)"
   ]
  },
  {
   "cell_type": "code",
   "execution_count": 34,
   "metadata": {
    "collapsed": false
   },
   "outputs": [
    {
     "name": "stdout",
     "output_type": "stream",
     "text": [
      "topic:  0\n",
      "vocab:  van  prob:  0.00126023003762\n",
      "vocab:  challenges  prob:  0.00107183015909\n",
      "vocab:  subsidiaries  prob:  0.00107007053527\n",
      "vocab:  pioneered  prob:  0.00104141360796\n",
      "vocab:  gays  prob:  0.00100255347129\n",
      "topic:  1\n",
      "vocab:  arrested  prob:  0.00129081560686\n",
      "vocab:  concern  prob:  0.00119666221046\n",
      "vocab:  receiving  prob:  0.0010377280602\n",
      "vocab:  threats  prob:  0.0010130547837\n",
      "vocab:  kohl  prob:  0.00100585488391\n",
      "topic:  2\n",
      "vocab:  baptists  prob:  0.00127093322637\n",
      "vocab:  wind  prob:  0.00114419516328\n",
      "vocab:  traditional  prob:  0.0010814066262\n",
      "vocab:  residents  prob:  0.00105761979742\n",
      "vocab:  message  prob:  0.00104520962987\n",
      "topic:  3\n",
      "vocab:  church  prob:  0.324297824692\n",
      "vocab:  pope  prob:  0.00955767554218\n",
      "vocab:  years  prob:  0.00151826331138\n",
      "vocab:  together  prob:  0.000917672155762\n",
      "vocab:  tourists  prob:  0.000808162570776\n",
      "topic:  4\n",
      "vocab:  iliescu  prob:  0.00124255570118\n",
      "vocab:  industry  prob:  0.00121853144343\n",
      "vocab:  operation  prob:  0.00117822420558\n",
      "vocab:  competition  prob:  0.00113153548405\n",
      "vocab:  come  prob:  0.00112602294089\n"
     ]
    }
   ],
   "source": [
    "n_print = 5\n",
    "for n_topic in range(n_topics):\n",
    "    print(\"topic: \",n_topic)\n",
    "    for i in range(n_print):\n",
    "        word_i = word_d[n_topic].argsort()[::-1][i]\n",
    "        print(\"vocab: \",vocab[word_i], \" prob: \", word_d[n_topic, word_i])"
   ]
  }
 ],
 "metadata": {
  "kernelspec": {
   "display_name": "Python [Root]",
   "language": "python",
   "name": "Python [Root]"
  },
  "language_info": {
   "codemirror_mode": {
    "name": "ipython",
    "version": 3
   },
   "file_extension": ".py",
   "mimetype": "text/x-python",
   "name": "python",
   "nbconvert_exporter": "python",
   "pygments_lexer": "ipython3",
   "version": "3.5.3"
  }
 },
 "nbformat": 4,
 "nbformat_minor": 2
}
